{
  "nbformat": 4,
  "nbformat_minor": 0,
  "metadata": {
    "colab": {
      "provenance": [],
      "authorship_tag": "ABX9TyMgAtemwTA8wYua4uC8vAIf",
      "include_colab_link": true
    },
    "kernelspec": {
      "name": "python3",
      "display_name": "Python 3"
    },
    "language_info": {
      "name": "python"
    }
  },
  "cells": [
    {
      "cell_type": "markdown",
      "metadata": {
        "id": "view-in-github",
        "colab_type": "text"
      },
      "source": [
        "<a href=\"https://colab.research.google.com/github/itforankit/GenerativeAI/blob/main/autoencoder_class.ipynb\" target=\"_parent\"><img src=\"https://colab.research.google.com/assets/colab-badge.svg\" alt=\"Open In Colab\"/></a>"
      ]
    },
    {
      "cell_type": "code",
      "execution_count": null,
      "metadata": {
        "id": "oNe5J8D8yfRD"
      },
      "outputs": [],
      "source": []
    },
    {
      "cell_type": "markdown",
      "source": [
        "**Autoencoder:**\n",
        "\n",
        "What and Why?\n",
        "\n",
        "Type of neural netowrk designed for unsupervised learning\n",
        "\n",
        "**encoder:** learn the compresses representation of input data\n",
        "input=28*28=784\n",
        "Compressed=10*10=100\n",
        "\n",
        "No of nuerons in o/p layer of the above ?\n",
        "Ans: 100\n",
        "\n",
        "**Decoder:**\n",
        "Reconstruct original data from the compresses presentation\n",
        "\n",
        "as per abpve example willl take compressed verion which is with 100 and will reconstruct with 784."
      ],
      "metadata": {
        "id": "RRY_-2isyjho"
      }
    },
    {
      "cell_type": "code",
      "source": [],
      "metadata": {
        "id": "jJZATTlryi-s"
      },
      "execution_count": null,
      "outputs": []
    },
    {
      "cell_type": "code",
      "source": [],
      "metadata": {
        "id": "jIHw0aLSyjCX"
      },
      "execution_count": null,
      "outputs": []
    },
    {
      "cell_type": "code",
      "source": [],
      "metadata": {
        "id": "XqKr-gp_yjFm"
      },
      "execution_count": null,
      "outputs": []
    },
    {
      "cell_type": "code",
      "source": [],
      "metadata": {
        "id": "T5yVI144yjIz"
      },
      "execution_count": null,
      "outputs": []
    },
    {
      "cell_type": "code",
      "source": [],
      "metadata": {
        "id": "bR3AhpO-yjL0"
      },
      "execution_count": null,
      "outputs": []
    }
  ]
}