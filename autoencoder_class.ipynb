{
  "nbformat": 4,
  "nbformat_minor": 0,
  "metadata": {
    "colab": {
      "provenance": [],
      "gpuType": "T4",
      "authorship_tag": "ABX9TyOosGPZnZ5IDfcDH4EWjL+o",
      "include_colab_link": true
    },
    "kernelspec": {
      "name": "python3",
      "display_name": "Python 3"
    },
    "language_info": {
      "name": "python"
    },
    "accelerator": "GPU"
  },
  "cells": [
    {
      "cell_type": "markdown",
      "metadata": {
        "id": "view-in-github",
        "colab_type": "text"
      },
      "source": [
        "<a href=\"https://colab.research.google.com/github/itforankit/GenerativeAI/blob/main/autoencoder_class.ipynb\" target=\"_parent\"><img src=\"https://colab.research.google.com/assets/colab-badge.svg\" alt=\"Open In Colab\"/></a>"
      ]
    },
    {
      "cell_type": "code",
      "execution_count": 1,
      "metadata": {
        "id": "oNe5J8D8yfRD"
      },
      "outputs": [],
      "source": [
        "#generate the data whcih look like mnist dataset\n",
        "import tensorflow as tf\n",
        "from tensorflow.keras.datasets import mnist\n",
        "from tensorflow.keras.models import Model\n",
        "from tensorflow.keras.layers import Input,Dense\n",
        "import numpy as np"
      ]
    },
    {
      "cell_type": "markdown",
      "source": [
        "**Autoencoder:**\n",
        "\n",
        "What and Why?\n",
        "\n",
        "Type of neural netowrk designed for unsupervised learning\n",
        "\n",
        "**encoder:** learn the compresses representation of input data\n",
        "input=28*28=784\n",
        "Compressed=10*10=100\n",
        "\n",
        "No of nuerons in o/p layer of the above ?\n",
        "Ans: 100\n",
        "\n",
        "**Decoder:**\n",
        "Reconstruct original data from the compresses presentation\n",
        "\n",
        "as per abpve example willl take compressed verion which is with 100 and will reconstruct with 784.\n",
        "\n",
        "Gen AI: Autoencoder it is generating new samples which have similiar characterstics to the orignial data\n",
        "\n",
        "Train NN to identify -> cat or dog -> supevised learning - labelled\n",
        "\n",
        "Autoencoder (encoder -> learning the attributes)\n",
        "\n",
        "Applications of Autoencoders:\n",
        "\n",
        "1. Data Augmentation: Genrate more data for training the AI models\n",
        "2. Anomoly Detection: train the model on normal data (learned weights using normal data)\n",
        "   \n",
        "   unormal data -> reconstruct -> reconstrcution error is higher\n",
        "3. Style transfer: night scenes\n",
        "\n",
        "  Day Scenes\n",
        "4. Image or data Synthesis: genrating realistic images\n"
      ],
      "metadata": {
        "id": "RRY_-2isyjho"
      }
    },
    {
      "cell_type": "code",
      "source": [
        "# read the data\n",
        "#encode the data to lower dimension(latent space)\n",
        "# train to reconstruct\n",
        "# output of the decoder\n",
        "\n",
        "(X_train,_),(X_test,_)=mnist.load_data()"
      ],
      "metadata": {
        "id": "jJZATTlryi-s",
        "colab": {
          "base_uri": "https://localhost:8080/"
        },
        "outputId": "8e7931b8-ac80-4c3b-c2e4-b3038499faa7"
      },
      "execution_count": 2,
      "outputs": [
        {
          "output_type": "stream",
          "name": "stdout",
          "text": [
            "Downloading data from https://storage.googleapis.com/tensorflow/tf-keras-datasets/mnist.npz\n",
            "11490434/11490434 [==============================] - 0s 0us/step\n"
          ]
        }
      ]
    },
    {
      "cell_type": "code",
      "source": [
        "X_train=X_train.astype('float')/255\n",
        "X_test=X_test.astype('float')/255"
      ],
      "metadata": {
        "id": "jIHw0aLSyjCX"
      },
      "execution_count": 3,
      "outputs": []
    },
    {
      "cell_type": "code",
      "source": [
        "X_train=X_train.reshape(60000,784)\n",
        "X_test=X_test.reshape(10000,784)"
      ],
      "metadata": {
        "id": "XqKr-gp_yjFm"
      },
      "execution_count": 4,
      "outputs": []
    },
    {
      "cell_type": "code",
      "source": [
        "encoding_dim =32 #can be any number\n",
        "input_img=Input(shape=(784,))\n",
        "encoded = Dense(encoding_dim,activation='relu')(input_img)\n",
        "\n",
        "decoded = Dense(784, activation='sigmoid')(encoded)"
      ],
      "metadata": {
        "id": "T5yVI144yjIz"
      },
      "execution_count": 5,
      "outputs": []
    },
    {
      "cell_type": "code",
      "source": [
        "autoencoder=Model(input_img,decoded)"
      ],
      "metadata": {
        "id": "bR3AhpO-yjL0"
      },
      "execution_count": 6,
      "outputs": []
    },
    {
      "cell_type": "code",
      "source": [
        "autoencoder.compile(optimizer='adam',loss='binary_crossentropy')\n",
        "\n",
        "# crossentropy : calculate the diff btw actual and predicted value\n",
        "# y-actual = [0,0.4,1]\n",
        "#y_pred =[1,0.6,1]\n",
        "#crossEnt = -y_actual(sum(log(y_pred_i)))"
      ],
      "metadata": {
        "id": "VK3gJo5UokT4"
      },
      "execution_count": 7,
      "outputs": []
    },
    {
      "cell_type": "code",
      "source": [
        "autoencoder.fit(X_train, X_train,epochs=50, batch_size=100, shuffle=True, validation_data=(X_test,X_test))"
      ],
      "metadata": {
        "colab": {
          "base_uri": "https://localhost:8080/"
        },
        "collapsed": true,
        "id": "p_d3sKOCokZq",
        "outputId": "62b6dd05-58ec-40a6-e454-94a636afc277"
      },
      "execution_count": 9,
      "outputs": [
        {
          "output_type": "stream",
          "name": "stdout",
          "text": [
            "Epoch 1/50\n",
            "600/600 [==============================] - 5s 5ms/step - loss: 0.2135 - val_loss: 0.1495\n",
            "Epoch 2/50\n",
            "600/600 [==============================] - 2s 3ms/step - loss: 0.1332 - val_loss: 0.1187\n",
            "Epoch 3/50\n",
            "600/600 [==============================] - 2s 3ms/step - loss: 0.1130 - val_loss: 0.1058\n",
            "Epoch 4/50\n",
            "600/600 [==============================] - 2s 3ms/step - loss: 0.1034 - val_loss: 0.0992\n",
            "Epoch 5/50\n",
            "600/600 [==============================] - 2s 3ms/step - loss: 0.0984 - val_loss: 0.0957\n",
            "Epoch 6/50\n",
            "600/600 [==============================] - 2s 3ms/step - loss: 0.0961 - val_loss: 0.0941\n",
            "Epoch 7/50\n",
            "600/600 [==============================] - 2s 3ms/step - loss: 0.0951 - val_loss: 0.0935\n",
            "Epoch 8/50\n",
            "600/600 [==============================] - 2s 4ms/step - loss: 0.0945 - val_loss: 0.0932\n",
            "Epoch 9/50\n",
            "600/600 [==============================] - 2s 3ms/step - loss: 0.0942 - val_loss: 0.0928\n",
            "Epoch 10/50\n",
            "600/600 [==============================] - 2s 3ms/step - loss: 0.0940 - val_loss: 0.0926\n",
            "Epoch 11/50\n",
            "600/600 [==============================] - 2s 3ms/step - loss: 0.0938 - val_loss: 0.0925\n",
            "Epoch 12/50\n",
            "600/600 [==============================] - 2s 3ms/step - loss: 0.0937 - val_loss: 0.0924\n",
            "Epoch 13/50\n",
            "600/600 [==============================] - 2s 3ms/step - loss: 0.0936 - val_loss: 0.0923\n",
            "Epoch 14/50\n",
            "600/600 [==============================] - 2s 3ms/step - loss: 0.0935 - val_loss: 0.0922\n",
            "Epoch 15/50\n",
            "600/600 [==============================] - 2s 4ms/step - loss: 0.0934 - val_loss: 0.0920\n",
            "Epoch 16/50\n",
            "600/600 [==============================] - 2s 3ms/step - loss: 0.0933 - val_loss: 0.0921\n",
            "Epoch 17/50\n",
            "600/600 [==============================] - 2s 3ms/step - loss: 0.0933 - val_loss: 0.0921\n",
            "Epoch 18/50\n",
            "600/600 [==============================] - 2s 3ms/step - loss: 0.0932 - val_loss: 0.0920\n",
            "Epoch 19/50\n",
            "600/600 [==============================] - 2s 3ms/step - loss: 0.0932 - val_loss: 0.0920\n",
            "Epoch 20/50\n",
            "600/600 [==============================] - 2s 3ms/step - loss: 0.0931 - val_loss: 0.0923\n",
            "Epoch 21/50\n",
            "600/600 [==============================] - 2s 3ms/step - loss: 0.0931 - val_loss: 0.0919\n",
            "Epoch 22/50\n",
            "600/600 [==============================] - 2s 3ms/step - loss: 0.0931 - val_loss: 0.0918\n",
            "Epoch 23/50\n",
            "600/600 [==============================] - 2s 3ms/step - loss: 0.0930 - val_loss: 0.0919\n",
            "Epoch 24/50\n",
            "600/600 [==============================] - 2s 3ms/step - loss: 0.0930 - val_loss: 0.0918\n",
            "Epoch 25/50\n",
            "600/600 [==============================] - 2s 3ms/step - loss: 0.0930 - val_loss: 0.0918\n",
            "Epoch 26/50\n",
            "600/600 [==============================] - 2s 3ms/step - loss: 0.0929 - val_loss: 0.0918\n",
            "Epoch 27/50\n",
            "600/600 [==============================] - 2s 3ms/step - loss: 0.0929 - val_loss: 0.0918\n",
            "Epoch 28/50\n",
            "600/600 [==============================] - 2s 4ms/step - loss: 0.0929 - val_loss: 0.0918\n",
            "Epoch 29/50\n",
            "600/600 [==============================] - 2s 4ms/step - loss: 0.0929 - val_loss: 0.0918\n",
            "Epoch 30/50\n",
            "600/600 [==============================] - 2s 3ms/step - loss: 0.0928 - val_loss: 0.0917\n",
            "Epoch 31/50\n",
            "600/600 [==============================] - 2s 3ms/step - loss: 0.0928 - val_loss: 0.0916\n",
            "Epoch 32/50\n",
            "600/600 [==============================] - 2s 3ms/step - loss: 0.0928 - val_loss: 0.0916\n",
            "Epoch 33/50\n",
            "600/600 [==============================] - 2s 3ms/step - loss: 0.0928 - val_loss: 0.0917\n",
            "Epoch 34/50\n",
            "600/600 [==============================] - 2s 3ms/step - loss: 0.0928 - val_loss: 0.0917\n",
            "Epoch 35/50\n",
            "600/600 [==============================] - 2s 3ms/step - loss: 0.0928 - val_loss: 0.0916\n",
            "Epoch 36/50\n",
            "600/600 [==============================] - 2s 4ms/step - loss: 0.0928 - val_loss: 0.0917\n",
            "Epoch 37/50\n",
            "600/600 [==============================] - 2s 3ms/step - loss: 0.0927 - val_loss: 0.0916\n",
            "Epoch 38/50\n",
            "600/600 [==============================] - 2s 3ms/step - loss: 0.0927 - val_loss: 0.0915\n",
            "Epoch 39/50\n",
            "600/600 [==============================] - 2s 3ms/step - loss: 0.0927 - val_loss: 0.0915\n",
            "Epoch 40/50\n",
            "600/600 [==============================] - 2s 3ms/step - loss: 0.0927 - val_loss: 0.0916\n",
            "Epoch 41/50\n",
            "600/600 [==============================] - 2s 3ms/step - loss: 0.0927 - val_loss: 0.0916\n",
            "Epoch 42/50\n",
            "600/600 [==============================] - 2s 3ms/step - loss: 0.0927 - val_loss: 0.0915\n",
            "Epoch 43/50\n",
            "600/600 [==============================] - 2s 4ms/step - loss: 0.0927 - val_loss: 0.0915\n",
            "Epoch 44/50\n",
            "600/600 [==============================] - 2s 3ms/step - loss: 0.0926 - val_loss: 0.0916\n",
            "Epoch 45/50\n",
            "600/600 [==============================] - 2s 3ms/step - loss: 0.0926 - val_loss: 0.0915\n",
            "Epoch 46/50\n",
            "600/600 [==============================] - 2s 3ms/step - loss: 0.0926 - val_loss: 0.0916\n",
            "Epoch 47/50\n",
            "600/600 [==============================] - 2s 3ms/step - loss: 0.0926 - val_loss: 0.0915\n",
            "Epoch 48/50\n",
            "600/600 [==============================] - 2s 3ms/step - loss: 0.0926 - val_loss: 0.0915\n",
            "Epoch 49/50\n",
            "600/600 [==============================] - 2s 3ms/step - loss: 0.0926 - val_loss: 0.0916\n",
            "Epoch 50/50\n",
            "600/600 [==============================] - 2s 3ms/step - loss: 0.0926 - val_loss: 0.0915\n"
          ]
        },
        {
          "output_type": "execute_result",
          "data": {
            "text/plain": [
              "<keras.src.callbacks.History at 0x78ebf2e5fb80>"
            ]
          },
          "metadata": {},
          "execution_count": 9
        }
      ]
    },
    {
      "cell_type": "code",
      "source": [
        "reconstructed_image=autoencoder.predict(X_test)\n"
      ],
      "metadata": {
        "colab": {
          "base_uri": "https://localhost:8080/"
        },
        "id": "ZQQdSP8pokmh",
        "outputId": "6664f28d-c4af-4103-9cf5-9b938f14d2fe"
      },
      "execution_count": 10,
      "outputs": [
        {
          "output_type": "stream",
          "name": "stdout",
          "text": [
            "313/313 [==============================] - 1s 2ms/step\n"
          ]
        }
      ]
    },
    {
      "cell_type": "code",
      "source": [
        "import matplotlib.pyplot as plt\n"
      ],
      "metadata": {
        "id": "9lLT0YQltvV6"
      },
      "execution_count": 11,
      "outputs": []
    },
    {
      "cell_type": "code",
      "source": [
        "reconstructed_image[5].reshape(28,28)"
      ],
      "metadata": {
        "colab": {
          "base_uri": "https://localhost:8080/"
        },
        "collapsed": true,
        "id": "NxJX_iS6uQxd",
        "outputId": "8eeec342-dac6-47e4-9ccd-c63fa028b7a7"
      },
      "execution_count": 17,
      "outputs": [
        {
          "output_type": "execute_result",
          "data": {
            "text/plain": [
              "array([[4.83657503e-10, 3.64139385e-10, 1.74480888e-10, 2.29309280e-10,\n",
              "        6.92239044e-11, 1.59947847e-10, 5.25769872e-10, 8.30989583e-11,\n",
              "        1.40728457e-10, 1.30161992e-10, 1.86053756e-10, 8.26569785e-11,\n",
              "        3.48026896e-09, 4.52497137e-11, 1.82272097e-11, 3.55192475e-09,\n",
              "        1.54941934e-10, 1.94555441e-10, 1.69501496e-10, 1.61761965e-10,\n",
              "        7.26658178e-11, 1.33408659e-10, 3.10501097e-10, 2.19239113e-10,\n",
              "        1.66831285e-10, 2.14820328e-10, 7.11316006e-11, 8.90617441e-11],\n",
              "       [1.52692303e-10, 5.91371230e-10, 3.03158526e-10, 2.44274961e-10,\n",
              "        1.96510541e-09, 2.56642441e-09, 5.65241291e-11, 1.71179426e-08,\n",
              "        1.44073397e-06, 5.45382591e-07, 8.42659844e-08, 2.06141806e-08,\n",
              "        5.76833137e-10, 4.90697651e-08, 1.37354584e-06, 4.28790770e-07,\n",
              "        3.69262310e-08, 4.53622501e-10, 2.47218299e-08, 8.39881442e-10,\n",
              "        3.75855613e-09, 5.45267031e-16, 3.28047900e-09, 7.67117980e-10,\n",
              "        5.05636366e-11, 4.35193215e-10, 2.44879061e-10, 1.04103080e-10],\n",
              "       [6.72075867e-11, 3.11483395e-10, 4.47589592e-08, 1.16701204e-13,\n",
              "        4.60843893e-07, 5.99505654e-08, 2.90440525e-08, 1.06895449e-07,\n",
              "        7.82080804e-07, 9.00331634e-06, 1.77512429e-05, 5.14104840e-06,\n",
              "        5.24075801e-07, 1.51986603e-06, 4.86860381e-06, 2.34394520e-06,\n",
              "        4.48933633e-07, 3.83361794e-07, 1.35031250e-05, 6.58331846e-05,\n",
              "        2.15509008e-05, 2.51272490e-06, 9.65430445e-07, 8.88406362e-08,\n",
              "        2.28677366e-09, 1.71393959e-13, 2.51661608e-10, 1.55860491e-10],\n",
              "       [1.26173696e-10, 8.55840329e-11, 4.92395020e-06, 6.16317308e-08,\n",
              "        6.66861297e-07, 4.38046783e-07, 7.45312263e-07, 2.52013569e-06,\n",
              "        1.13607266e-05, 2.71803783e-05, 9.08614675e-05, 1.61109390e-04,\n",
              "        2.11645674e-04, 2.95824517e-04, 2.53066828e-04, 1.26030340e-04,\n",
              "        1.12554662e-04, 1.75730835e-04, 3.67944187e-04, 2.49618257e-04,\n",
              "        1.63338336e-04, 1.08392582e-04, 4.43813042e-05, 2.15745495e-05,\n",
              "        2.31618060e-06, 9.10317453e-07, 4.50343606e-07, 6.46529982e-11],\n",
              "       [2.74256229e-10, 1.68433843e-07, 1.77487527e-05, 1.01093001e-05,\n",
              "        1.24799199e-05, 1.00563047e-04, 1.01452344e-04, 1.96210342e-04,\n",
              "        3.42742249e-04, 6.98240707e-04, 1.29196129e-03, 1.18057430e-03,\n",
              "        1.11281034e-03, 1.28308719e-03, 2.09917757e-03, 1.08012091e-02,\n",
              "        4.49168533e-02, 8.66198391e-02, 4.85149026e-02, 1.04611609e-02,\n",
              "        2.23003584e-03, 5.95693709e-04, 2.09918115e-04, 6.68570865e-05,\n",
              "        1.96273322e-05, 2.36667893e-06, 5.30556932e-10, 1.75130063e-10],\n",
              "       [1.40585474e-10, 1.23180383e-10, 2.32110415e-05, 1.11905269e-04,\n",
              "        1.65840043e-04, 8.43986694e-04, 1.66838267e-03, 2.22127116e-03,\n",
              "        3.87317152e-03, 5.92382625e-03, 4.53624967e-03, 2.39739683e-03,\n",
              "        1.36282295e-03, 1.40591513e-03, 4.61364118e-03, 5.14488928e-02,\n",
              "        3.91110182e-01, 6.33522928e-01, 3.64593297e-01, 6.19370900e-02,\n",
              "        5.74369915e-03, 9.84015409e-04, 2.40882771e-04, 5.95428392e-05,\n",
              "        2.82207766e-05, 1.05914287e-05, 1.74229046e-06, 2.39791742e-09],\n",
              "       [1.09285275e-10, 9.93587292e-08, 8.55378894e-05, 2.60450499e-04,\n",
              "        3.36226309e-04, 1.67767936e-03, 3.58618796e-03, 7.46659935e-03,\n",
              "        1.48770344e-02, 1.32643478e-02, 8.44986923e-03, 2.81019858e-03,\n",
              "        1.18373288e-03, 1.12257863e-03, 7.46105611e-03, 1.99204564e-01,\n",
              "        8.54831994e-01, 9.51059997e-01, 7.46886790e-01, 6.81383386e-02,\n",
              "        3.35769053e-03, 5.39725472e-04, 1.25525781e-04, 6.46239932e-05,\n",
              "        5.09993843e-05, 2.73995065e-05, 2.47520370e-06, 6.27078407e-06],\n",
              "       [1.02071039e-10, 7.99923669e-07, 1.55583712e-05, 2.03812553e-04,\n",
              "        1.44768754e-04, 1.69755507e-03, 3.68150044e-03, 7.86862150e-03,\n",
              "        1.57150477e-02, 1.42874336e-02, 7.12364772e-03, 2.12605740e-03,\n",
              "        9.61601792e-04, 1.27141655e-03, 1.46663487e-02, 5.24739921e-01,\n",
              "        9.71555889e-01, 9.83910441e-01, 7.70408630e-01, 3.40990461e-02,\n",
              "        1.22447114e-03, 2.64026312e-04, 1.81257798e-04, 3.23089160e-04,\n",
              "        6.59212412e-04, 4.44129459e-04, 3.11183539e-05, 2.32185084e-06],\n",
              "       [1.24938353e-08, 3.16701659e-07, 9.76990668e-06, 8.33019949e-05,\n",
              "        1.21535857e-04, 5.09713194e-04, 1.12472521e-03, 4.84860176e-03,\n",
              "        1.03142224e-02, 1.01869861e-02, 4.83319722e-03, 1.92249741e-03,\n",
              "        1.40230206e-03, 2.58139381e-03, 5.01735769e-02, 8.26862395e-01,\n",
              "        9.87142324e-01, 9.79234457e-01, 4.33217555e-01, 5.12899878e-03,\n",
              "        2.76916166e-04, 1.86882855e-04, 5.30305551e-04, 2.25336896e-03,\n",
              "        2.49027135e-03, 1.64248573e-03, 1.77431037e-04, 2.94896449e-06],\n",
              "       [2.40078568e-10, 8.21075048e-07, 1.48119725e-05, 2.36157503e-05,\n",
              "        8.06305470e-05, 2.20151633e-04, 6.97157171e-04, 3.12535535e-03,\n",
              "        8.08292627e-03, 9.92142875e-03, 8.07285123e-03, 3.93754616e-03,\n",
              "        2.32290500e-03, 7.69248651e-03, 2.03367919e-01, 9.33807313e-01,\n",
              "        9.86370981e-01, 9.23417687e-01, 9.42666680e-02, 1.11620186e-03,\n",
              "        1.66060301e-04, 3.37154575e-04, 2.24237074e-03, 7.47163268e-03,\n",
              "        3.19141801e-03, 9.30241658e-04, 5.85341331e-05, 3.75836834e-07],\n",
              "       [1.21721189e-09, 8.66264259e-07, 1.06342914e-05, 4.67674727e-05,\n",
              "        7.69524340e-05, 1.74165121e-04, 4.42971388e-04, 2.18508439e-03,\n",
              "        7.06904801e-03, 1.27646541e-02, 1.30814854e-02, 5.38325263e-03,\n",
              "        3.56040895e-03, 2.11960468e-02, 5.12681663e-01, 9.69247580e-01,\n",
              "        9.81058002e-01, 6.75280392e-01, 1.72438361e-02, 3.96028539e-04,\n",
              "        3.06409231e-04, 1.31496007e-03, 4.74239234e-03, 8.09578132e-03,\n",
              "        2.42198515e-03, 2.72802252e-04, 6.04223969e-05, 3.69843178e-07],\n",
              "       [1.77435333e-09, 5.10783138e-06, 1.25205952e-05, 1.52157590e-04,\n",
              "        7.89536643e-05, 2.20278671e-04, 4.36737435e-04, 1.69045629e-03,\n",
              "        4.97696362e-03, 8.81932490e-03, 6.13043224e-03, 3.88182420e-03,\n",
              "        4.70436271e-03, 6.83589950e-02, 8.04993331e-01, 9.88461971e-01,\n",
              "        9.63171482e-01, 3.14001232e-01, 4.44034347e-03, 4.11586108e-04,\n",
              "        1.00110611e-03, 4.69109043e-03, 8.22795648e-03, 6.43691607e-03,\n",
              "        1.74489792e-03, 2.77314335e-04, 2.45363859e-04, 1.39018334e-06],\n",
              "       [2.72903665e-14, 6.89188617e-09, 2.92870627e-05, 1.98235241e-04,\n",
              "        2.25310185e-04, 3.10451520e-04, 5.10859187e-04, 1.76585861e-03,\n",
              "        3.10846604e-03, 3.04514985e-03, 1.84574910e-03, 1.92978978e-03,\n",
              "        6.82750111e-03, 2.06905708e-01, 9.38088417e-01, 9.88961279e-01,\n",
              "        8.83309841e-01, 7.52096251e-02, 1.36294437e-03, 4.74370172e-04,\n",
              "        3.11446213e-03, 1.26676159e-02, 1.13526648e-02, 3.87720088e-03,\n",
              "        1.14522816e-03, 6.29446295e-04, 1.28256332e-04, 2.51399706e-05],\n",
              "       [2.37434710e-06, 5.45089343e-08, 3.22181421e-07, 7.97985485e-05,\n",
              "        2.08994650e-04, 5.81229047e-04, 9.85435792e-04, 2.32830294e-03,\n",
              "        2.37261388e-03, 1.42579491e-03, 8.48136900e-04, 2.02177023e-03,\n",
              "        2.00521685e-02, 5.31531632e-01, 9.77515399e-01, 9.78838503e-01,\n",
              "        5.52274168e-01, 1.35219172e-02, 5.40891197e-04, 8.64733418e-04,\n",
              "        7.31975259e-03, 1.80233344e-02, 7.66897295e-03, 1.81341649e-03,\n",
              "        6.43959909e-04, 6.88503089e-04, 1.09924658e-04, 1.12766304e-06],\n",
              "       [3.24559962e-10, 1.49845398e-08, 1.79697834e-09, 1.23107293e-05,\n",
              "        8.39349523e-05, 7.53742352e-04, 1.35245395e-03, 3.12632252e-03,\n",
              "        2.13715038e-03, 8.88899376e-04, 1.03488821e-03, 3.64297396e-03,\n",
              "        5.42335622e-02, 7.80033469e-01, 9.86079633e-01, 9.50348139e-01,\n",
              "        1.86804205e-01, 2.50951946e-03, 5.15219755e-04, 2.03848630e-03,\n",
              "        9.36481729e-03, 1.02971708e-02, 2.62229121e-03, 4.24905244e-04,\n",
              "        2.43967486e-04, 2.38478257e-04, 1.60725358e-05, 5.27205373e-07],\n",
              "       [1.09125364e-09, 2.45349244e-11, 5.62146806e-06, 1.66204991e-05,\n",
              "        1.28518324e-04, 1.14450278e-03, 2.54121260e-03, 4.70806425e-03,\n",
              "        2.40507047e-03, 1.28731714e-03, 1.92942983e-03, 6.99351588e-03,\n",
              "        1.26101628e-01, 9.03843641e-01, 9.86882031e-01, 8.40770543e-01,\n",
              "        4.81879860e-02, 9.44598811e-04, 7.99273548e-04, 2.91578728e-03,\n",
              "        6.44902512e-03, 3.60182277e-03, 7.57990056e-04, 1.24760743e-04,\n",
              "        1.07383858e-04, 1.39653654e-04, 3.11362237e-05, 1.20070922e-06],\n",
              "       [1.05134117e-10, 6.07029591e-08, 1.29737047e-04, 4.63980577e-05,\n",
              "        2.85656250e-04, 2.16768775e-03, 4.99980710e-03, 5.72683010e-03,\n",
              "        2.51262705e-03, 1.57837546e-03, 2.60151201e-03, 1.41693689e-02,\n",
              "        4.09742355e-01, 9.64624703e-01, 9.77307796e-01, 5.10589421e-01,\n",
              "        1.29799256e-02, 9.18439007e-04, 2.01139296e-03, 4.46999026e-03,\n",
              "        3.74312047e-03, 1.04525441e-03, 1.46351580e-04, 4.75787674e-05,\n",
              "        8.19165143e-05, 1.97470072e-04, 1.16223389e-04, 4.96869745e-07],\n",
              "       [3.27069316e-10, 2.31304807e-06, 4.54045330e-05, 5.48482494e-05,\n",
              "        3.74784548e-04, 2.00345833e-03, 3.68567230e-03, 2.98082852e-03,\n",
              "        1.41839916e-03, 1.61510601e-03, 4.52117436e-03, 4.55722809e-02,\n",
              "        6.82598114e-01, 9.78491545e-01, 9.39951658e-01, 2.16820568e-01,\n",
              "        5.93307661e-03, 2.09606532e-03, 6.07779901e-03, 8.11464339e-03,\n",
              "        3.65556264e-03, 5.89705713e-04, 8.61208828e-05, 5.38042732e-05,\n",
              "        1.61986172e-04, 3.51251190e-04, 1.34295362e-04, 3.95802999e-06],\n",
              "       [3.43315065e-07, 8.36702554e-07, 3.82491344e-05, 5.89903284e-05,\n",
              "        4.45801939e-04, 1.03276165e-03, 1.37337227e-03, 1.14079821e-03,\n",
              "        9.85156163e-04, 1.63204991e-03, 5.42564411e-03, 1.08965345e-01,\n",
              "        8.75165105e-01, 9.81261790e-01, 8.34618688e-01, 6.89628795e-02,\n",
              "        4.14329907e-03, 3.27395159e-03, 9.62012261e-03, 1.32388836e-02,\n",
              "        4.88837855e-03, 7.20315787e-04, 1.47304308e-04, 1.70152023e-04,\n",
              "        5.19510359e-04, 1.46891759e-03, 5.54999162e-04, 1.76485963e-04],\n",
              "       [1.22614138e-05, 1.34932154e-04, 4.07416010e-05, 8.50686920e-05,\n",
              "        4.48371138e-04, 6.69713190e-04, 5.11210645e-04, 4.42568271e-04,\n",
              "        5.59470092e-04, 1.12659112e-03, 6.61714515e-03, 2.39268273e-01,\n",
              "        9.51305151e-01, 9.73857522e-01, 5.51212013e-01, 1.38314795e-02,\n",
              "        1.29191834e-03, 1.69476215e-03, 6.86984276e-03, 9.69211571e-03,\n",
              "        5.10412641e-03, 9.41990234e-04, 2.48415250e-04, 2.10730286e-04,\n",
              "        6.17734389e-04, 1.14175596e-03, 2.50090641e-04, 8.39805798e-05],\n",
              "       [1.68316236e-10, 7.60201738e-06, 4.14963033e-05, 2.03582211e-04,\n",
              "        4.65222634e-04, 6.53587515e-04, 3.01484280e-04, 1.86856298e-04,\n",
              "        1.98822425e-04, 6.43023406e-04, 1.47733269e-02, 6.01874173e-01,\n",
              "        9.74540293e-01, 9.49392080e-01, 1.77772120e-01, 2.33059353e-03,\n",
              "        4.27150895e-04, 5.88139112e-04, 3.73359281e-03, 8.11062939e-03,\n",
              "        4.69045155e-03, 1.06403278e-03, 3.25366651e-04, 2.63849157e-04,\n",
              "        4.47365339e-04, 6.17285084e-04, 1.55608606e-04, 4.84870668e-08],\n",
              "       [4.19045064e-05, 4.88639159e-07, 2.71966328e-05, 3.80072539e-04,\n",
              "        6.41693070e-04, 6.72445109e-04, 4.09606931e-04, 1.83895871e-04,\n",
              "        2.02426672e-04, 1.50756701e-03, 6.17112741e-02, 8.26301098e-01,\n",
              "        9.76216078e-01, 8.67912769e-01, 5.84845133e-02, 1.27844629e-03,\n",
              "        2.31189915e-04, 4.76456422e-04, 3.66552407e-03, 9.62867588e-03,\n",
              "        6.50391541e-03, 2.40757712e-03, 6.04138477e-04, 4.31442051e-04,\n",
              "        4.38201532e-04, 2.10211947e-04, 2.46282376e-04, 4.23318596e-07],\n",
              "       [3.72209433e-05, 1.07605536e-06, 1.81683990e-05, 4.19641699e-04,\n",
              "        5.78459352e-04, 6.10670308e-04, 4.42149962e-04, 3.98822798e-04,\n",
              "        6.00151892e-04, 4.56848321e-03, 1.48489431e-01, 8.42940807e-01,\n",
              "        9.50026333e-01, 7.06772447e-01, 4.68809754e-02, 1.92997593e-03,\n",
              "        3.87430540e-04, 7.58927432e-04, 3.62128485e-03, 9.35975835e-03,\n",
              "        8.60894844e-03, 4.14006226e-03, 1.70826993e-03, 6.13696466e-04,\n",
              "        4.37774463e-04, 8.46818220e-05, 5.48781754e-05, 5.38445022e-07],\n",
              "       [2.39836456e-10, 6.89050206e-10, 2.31101535e-06, 4.00800927e-04,\n",
              "        4.24821803e-04, 6.19704311e-04, 4.83203534e-04, 5.68699499e-04,\n",
              "        1.35601754e-03, 1.30773680e-02, 1.91698402e-01, 6.96089923e-01,\n",
              "        8.25726330e-01, 6.03216410e-01, 8.42378214e-02, 6.19815150e-03,\n",
              "        9.96489078e-04, 6.25400920e-04, 2.17709807e-03, 5.93039161e-03,\n",
              "        7.06311315e-03, 4.31715092e-03, 2.92790495e-03, 4.96267225e-04,\n",
              "        1.42143137e-04, 1.67006237e-05, 4.61013187e-05, 8.18588530e-11],\n",
              "       [6.39637010e-10, 3.33227695e-10, 8.16608349e-07, 8.60726941e-05,\n",
              "        2.59969471e-04, 1.60632495e-04, 1.63301433e-04, 1.51619271e-04,\n",
              "        4.48928622e-04, 3.27251130e-03, 4.74884063e-02, 2.57962435e-01,\n",
              "        3.78409922e-01, 1.94406047e-01, 3.47787291e-02, 5.50729409e-03,\n",
              "        5.40564652e-04, 1.56321097e-04, 6.14440360e-04, 2.03774241e-03,\n",
              "        1.17181637e-03, 1.64308562e-03, 1.40280963e-03, 1.81848634e-04,\n",
              "        1.57869727e-05, 2.17173738e-06, 1.03394207e-07, 1.69008849e-10],\n",
              "       [1.05774542e-10, 4.04356160e-10, 1.27797790e-08, 1.17241408e-08,\n",
              "        1.88822942e-05, 1.90725586e-05, 1.22067895e-05, 3.89674096e-06,\n",
              "        7.90882586e-06, 8.10727070e-05, 7.01641315e-04, 5.67439385e-03,\n",
              "        1.24722160e-02, 3.73721309e-03, 1.22074527e-03, 1.86963749e-04,\n",
              "        4.79244682e-06, 2.67348327e-07, 6.00044359e-06, 1.39818658e-05,\n",
              "        5.12073666e-06, 7.46756905e-06, 9.88147895e-06, 3.02683418e-07,\n",
              "        4.17550922e-07, 2.36302511e-09, 5.51686336e-11, 2.26476532e-10],\n",
              "       [9.66308214e-11, 1.15762504e-10, 3.50387740e-11, 4.38208220e-11,\n",
              "        2.76236591e-07, 2.24062433e-06, 1.10059352e-06, 1.06981065e-06,\n",
              "        7.71433122e-07, 7.37459914e-07, 5.04651871e-06, 2.78882362e-04,\n",
              "        4.72311367e-04, 1.30339686e-04, 7.11444009e-05, 1.39876499e-06,\n",
              "        1.61104052e-09, 4.47952980e-10, 2.80112374e-07, 3.70547150e-06,\n",
              "        7.35276399e-06, 3.55615084e-05, 2.15863156e-06, 3.34647183e-07,\n",
              "        2.98541192e-09, 2.25173391e-08, 5.29382316e-10, 1.01203525e-10],\n",
              "       [1.20106772e-10, 2.17281707e-10, 2.59957916e-10, 8.56400784e-10,\n",
              "        3.21936744e-09, 2.48529322e-08, 3.06550483e-08, 6.49550600e-08,\n",
              "        3.28091865e-08, 1.51587454e-08, 2.36591106e-07, 7.59904253e-07,\n",
              "        4.90787954e-07, 6.90362469e-08, 5.47310499e-08, 5.24487842e-10,\n",
              "        6.82791046e-11, 1.54153690e-10, 1.92406038e-08, 8.06627583e-08,\n",
              "        4.23036042e-08, 4.26668763e-08, 6.03059469e-09, 5.55890611e-10,\n",
              "        1.89828306e-10, 2.69071709e-10, 7.88039023e-10, 5.20949450e-10]],\n",
              "      dtype=float32)"
            ]
          },
          "metadata": {},
          "execution_count": 17
        }
      ]
    },
    {
      "cell_type": "code",
      "source": [
        "plt.imshow(X_test[7].reshape(28,28))\n",
        "plt.gray()"
      ],
      "metadata": {
        "colab": {
          "base_uri": "https://localhost:8080/",
          "height": 430
        },
        "id": "dkJe5HKTuXTy",
        "outputId": "8d1c9cf7-2232-4f3a-8962-565e44a8323e"
      },
      "execution_count": 23,
      "outputs": [
        {
          "output_type": "display_data",
          "data": {
            "text/plain": [
              "<Figure size 640x480 with 1 Axes>"
            ],
            "image/png": "[encoded data removed]"
          },
          "metadata": {}
        }
      ]
    },
    {
      "cell_type": "code",
      "source": [
        "plt.imshow(reconstructed_image[7].reshape(28,28))\n",
        "plt.gray()"
      ],
      "metadata": {
        "colab": {
          "base_uri": "https://localhost:8080/",
          "height": 430
        },
        "id": "frSBgPdzt1wP",
        "outputId": "d31e16c4-4aef-493d-a355-bdf90c5dc953"
      },
      "execution_count": 24,
      "outputs": [
        {
          "output_type": "display_data",
          "data": {
            "text/plain": [
              "<Figure size 640x480 with 1 Axes>"
            ],
            "image/png": "[encoded data removed]"
          },
          "metadata": {}
        }
      ]
    }
  ]
}