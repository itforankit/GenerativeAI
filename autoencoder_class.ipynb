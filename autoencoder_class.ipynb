{
  "nbformat": 4,
  "nbformat_minor": 0,
  "metadata": {
    "colab": {
      "provenance": [],
      "authorship_tag": "ABX9TyP5r3jrd5N3q/pG8FyejXnA",
      "include_colab_link": true
    },
    "kernelspec": {
      "name": "python3",
      "display_name": "Python 3"
    },
    "language_info": {
      "name": "python"
    }
  },
  "cells": [
    {
      "cell_type": "markdown",
      "metadata": {
        "id": "view-in-github",
        "colab_type": "text"
      },
      "source": [
        "<a href=\"https://colab.research.google.com/github/itforankit/GenerativeAI/blob/main/autoencoder_class.ipynb\" target=\"_parent\"><img src=\"https://colab.research.google.com/assets/colab-badge.svg\" alt=\"Open In Colab\"/></a>"
      ]
    },
    {
      "cell_type": "code",
      "execution_count": null,
      "metadata": {
        "id": "oNe5J8D8yfRD"
      },
      "outputs": [],
      "source": []
    },
    {
      "cell_type": "markdown",
      "source": [
        "**Autoencoder:**\n",
        "\n",
        "What and Why?\n",
        "\n",
        "Type of neural netowrk designed for unsupervised learning\n",
        "\n",
        "**encoder:** learn the compresses representation of input data\n",
        "input=28*28=784\n",
        "Compressed=10*10=100\n",
        "\n",
        "No of nuerons in o/p layer of the above ?\n",
        "Ans: 100\n",
        "\n",
        "**Decoder:**\n",
        "Reconstruct original data from the compresses presentation\n",
        "\n",
        "as per abpve example willl take compressed verion which is with 100 and will reconstruct with 784.\n",
        "\n",
        "Gen AI: Autoencoder it is generating new samples which have similiar characterstics to the orignial data\n",
        "\n",
        "Train NN to identify -> cat or dog -> supevised learning - labelled\n",
        "\n",
        "Autoencoder (encoder -> learning the attributes)\n",
        "\n",
        "Applications of Autoencoders:\n",
        "\n",
        "1. Data Augmentation: Genrate more data for training the AI models\n",
        "2. Anomoly Detection: train the model on normal data (learned weights using normal data)\n",
        "   \n",
        "   unormal data -> reconstruct -> reconstrcution error is higher\n",
        "3. Style transfer: night scenes\n",
        "\n",
        "  Day Scenes\n",
        "4. Image or data Synthesis: genrating realistic images\n"
      ],
      "metadata": {
        "id": "RRY_-2isyjho"
      }
    },
    {
      "cell_type": "code",
      "source": [],
      "metadata": {
        "id": "jJZATTlryi-s"
      },
      "execution_count": null,
      "outputs": []
    },
    {
      "cell_type": "code",
      "source": [],
      "metadata": {
        "id": "jIHw0aLSyjCX"
      },
      "execution_count": null,
      "outputs": []
    },
    {
      "cell_type": "code",
      "source": [],
      "metadata": {
        "id": "XqKr-gp_yjFm"
      },
      "execution_count": null,
      "outputs": []
    },
    {
      "cell_type": "code",
      "source": [],
      "metadata": {
        "id": "T5yVI144yjIz"
      },
      "execution_count": null,
      "outputs": []
    },
    {
      "cell_type": "code",
      "source": [],
      "metadata": {
        "id": "bR3AhpO-yjL0"
      },
      "execution_count": null,
      "outputs": []
    }
  ]
}