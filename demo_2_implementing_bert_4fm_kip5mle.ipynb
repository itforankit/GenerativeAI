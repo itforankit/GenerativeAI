{
  "nbformat": 4,
  "nbformat_minor": 0,
  "metadata": {
    "colab": {
      "provenance": []
    },
    "kernelspec": {
      "name": "python3",
      "display_name": "Python 3"
    },
    "language_info": {
      "name": "python"
    }
  },
  "cells": [
    {
      "cell_type": "markdown",
      "source": [
        "# Demo -1:Implementng BERT"
      ],
      "metadata": {
        "id": "943fOUG3qKig"
      }
    },
    {
      "cell_type": "markdown",
      "source": [
        "# Step-1: Install Transformers Library"
      ],
      "metadata": {
        "id": "BhHawr7r9Iqe"
      }
    },
    {
      "cell_type": "code",
      "execution_count": null,
      "metadata": {
        "id": "kTbaqNA8qHuL"
      },
      "outputs": [],
      "source": [
        "!pip install transformers\n",
        "\n",
        "\n"
      ]
    },
    {
      "cell_type": "markdown",
      "source": [
        "# Step-2: Import BertModel and BertTokenizer"
      ],
      "metadata": {
        "id": "mXDX41069LQ2"
      }
    },
    {
      "cell_type": "code",
      "source": [
        "from transformers import BertModel, BertTokenizer\n",
        "import torch\n"
      ],
      "metadata": {
        "id": "QWhMEdfmqft_"
      },
      "execution_count": null,
      "outputs": []
    },
    {
      "cell_type": "markdown",
      "source": [
        "# Step-3: Define a Function for BERT Embeddings"
      ],
      "metadata": {
        "id": "ySUucSfm9OD-"
      }
    },
    {
      "cell_type": "markdown",
      "source": [],
      "metadata": {
        "id": "2sFSd_KHqIxT"
      }
    },
    {
      "cell_type": "code",
      "source": [
        "def get_bert_embeddings(sentences, model_name='bert-base-uncased'):\n",
        "    # Load pre-trained model and tokenizer\n",
        "    tokenizer = BertTokenizer.from_pretrained(model_name)\n",
        "    model = BertModel.from_pretrained(model_name)\n",
        "\n",
        "    # Tokenize and encode the sentences\n",
        "    inputs = tokenizer(sentences, return_tensors='pt', padding=True, truncation=True, max_length=512)\n",
        "\n",
        "    # Get embeddings\n",
        "    with torch.no_grad():\n",
        "        outputs = model(**inputs)\n",
        "\n",
        "    # Extract the embeddings for each input sentence\n",
        "    embeddings = outputs.last_hidden_state[:, 0, :].detach().numpy()\n",
        "    return embeddings\n",
        "\n",
        "# Example usage\n",
        "sentences = [\"Hello, how are you?\", \"I'm fine, thank you!\"]\n",
        "embeddings = get_bert_embeddings(sentences)\n",
        "\n",
        "print(embeddings)"
      ],
      "metadata": {
        "id": "CyEXQRzIsGe9"
      },
      "execution_count": null,
      "outputs": []
    }
  ]
}