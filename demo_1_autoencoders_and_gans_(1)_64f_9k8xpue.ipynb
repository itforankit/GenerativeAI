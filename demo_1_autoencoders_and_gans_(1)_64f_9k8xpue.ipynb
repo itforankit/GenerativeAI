{
  "nbformat": 4,
  "nbformat_minor": 0,
  "metadata": {
    "colab": {
      "provenance": []
    },
    "kernelspec": {
      "name": "python3",
      "display_name": "Python 3"
    },
    "language_info": {
      "name": "python"
    }
  },
  "cells": [
    {
      "cell_type": "markdown",
      "source": [
        "# Demo-1: Autoencoders and GANs\n",
        "\n"
      ],
      "metadata": {
        "id": "qavSqr9ymkVl"
      }
    },
    {
      "cell_type": "markdown",
      "source": [
        "# Step-1: Import TensorFlow"
      ],
      "metadata": {
        "id": "pyxAqRmI73y9"
      }
    },
    {
      "cell_type": "code",
      "execution_count": null,
      "metadata": {
        "id": "8F4YuUn4LBGf"
      },
      "outputs": [],
      "source": [
        "import tensorflow as tf\n",
        "from tensorflow.keras.datasets import mnist\n",
        "from tensorflow.keras.models import Model\n",
        "from tensorflow.keras.layers import Input, Dense\n",
        "import numpy as np\n",
        "import matplotlib.pyplot as plt\n",
        "\n",
        "# Load MNIST dataset\n",
        "(x_train, _), (x_test, _) = mnist.load_data()\n",
        "x_train = x_train.astype('float32') / 255.\n",
        "x_test = x_test.astype('float32') / 255.\n",
        "x_train = x_train.reshape((len(x_train), np.prod(x_train.shape[1:])))\n",
        "x_test = x_test.reshape((len(x_test), np.prod(x_test.shape[1:])))\n"
      ]
    },
    {
      "cell_type": "markdown",
      "source": [
        "# Step-2: Define Encoded Representation Size"
      ],
      "metadata": {
        "id": "oExkJJO8779z"
      }
    },
    {
      "cell_type": "code",
      "source": [
        "# This is the size of our encoded representations\n",
        "encoding_dim = 32  # 32 floats -> compression of factor 24.5, assuming the input is 784 floats\n",
        "\n",
        "# This is our input image\n",
        "input_img = Input(shape=(784,))\n",
        "# \"encoded\" is the encoded representation of the input\n",
        "encoded = Dense(encoding_dim, activation='relu')(input_img)\n",
        "# \"decoded\" is the lossy reconstruction of the input\n",
        "decoded = Dense(784, activation='sigmoid')(encoded)\n",
        "\n",
        "# This model maps an input to its reconstruction\n",
        "autoencoder = Model(input_img, decoded)\n"
      ],
      "metadata": {
        "id": "H7SHWa4gLCOR"
      },
      "execution_count": null,
      "outputs": []
    },
    {
      "cell_type": "markdown",
      "source": [
        "# Step-3: Compile the Autoencoder"
      ],
      "metadata": {
        "id": "_K8z8KQN8AEm"
      }
    },
    {
      "cell_type": "code",
      "source": [
        "autoencoder.compile(optimizer='adam', loss='binary_crossentropy')\n",
        "autoencoder.fit(x_train, x_train,\n",
        "                epochs=50,\n",
        "                batch_size=256,\n",
        "                shuffle=True,\n",
        "                validation_data=(x_test, x_test))\n"
      ],
      "metadata": {
        "colab": {
          "base_uri": "https://localhost:8080/"
        },
        "id": "ty9Kz8x9LFip",
        "outputId": "a9c9a991-1aa7-402a-9dfd-a318da42c867"
      },
      "execution_count": null,
      "outputs": [
        {
          "output_type": "stream",
          "name": "stdout",
          "text": [
            "Epoch 1/50\n",
            "235/235 [==============================] - 4s 13ms/step - loss: 0.2760 - val_loss: 0.1881\n",
            "Epoch 2/50\n",
            "235/235 [==============================] - 3s 13ms/step - loss: 0.1696 - val_loss: 0.1535\n",
            "Epoch 3/50\n",
            "235/235 [==============================] - 4s 15ms/step - loss: 0.1442 - val_loss: 0.1340\n",
            "Epoch 4/50\n",
            "235/235 [==============================] - 5s 23ms/step - loss: 0.1288 - val_loss: 0.1216\n",
            "Epoch 5/50\n",
            "235/235 [==============================] - 5s 20ms/step - loss: 0.1185 - val_loss: 0.1133\n",
            "Epoch 6/50\n",
            "235/235 [==============================] - 4s 16ms/step - loss: 0.1114 - val_loss: 0.1073\n",
            "Epoch 7/50\n",
            "235/235 [==============================] - 2s 10ms/step - loss: 0.1062 - val_loss: 0.1029\n",
            "Epoch 8/50\n",
            "235/235 [==============================] - 3s 12ms/step - loss: 0.1023 - val_loss: 0.0995\n",
            "Epoch 9/50\n",
            "235/235 [==============================] - 2s 10ms/step - loss: 0.0995 - val_loss: 0.0971\n",
            "Epoch 10/50\n",
            "235/235 [==============================] - 2s 8ms/step - loss: 0.0976 - val_loss: 0.0955\n",
            "Epoch 11/50\n",
            "235/235 [==============================] - 2s 8ms/step - loss: 0.0963 - val_loss: 0.0944\n",
            "Epoch 12/50\n",
            "235/235 [==============================] - 2s 8ms/step - loss: 0.0954 - val_loss: 0.0938\n",
            "Epoch 13/50\n",
            "235/235 [==============================] - 2s 8ms/step - loss: 0.0949 - val_loss: 0.0933\n",
            "Epoch 14/50\n",
            "235/235 [==============================] - 2s 10ms/step - loss: 0.0945 - val_loss: 0.0931\n",
            "Epoch 15/50\n",
            "235/235 [==============================] - 3s 12ms/step - loss: 0.0942 - val_loss: 0.0927\n",
            "Epoch 16/50\n",
            "235/235 [==============================] - 2s 8ms/step - loss: 0.0940 - val_loss: 0.0926\n",
            "Epoch 17/50\n",
            "235/235 [==============================] - 2s 8ms/step - loss: 0.0938 - val_loss: 0.0925\n",
            "Epoch 18/50\n",
            "235/235 [==============================] - 2s 8ms/step - loss: 0.0937 - val_loss: 0.0923\n",
            "Epoch 19/50\n",
            "235/235 [==============================] - 2s 8ms/step - loss: 0.0936 - val_loss: 0.0922\n",
            "Epoch 20/50\n",
            "235/235 [==============================] - 2s 8ms/step - loss: 0.0935 - val_loss: 0.0921\n",
            "Epoch 21/50\n",
            "235/235 [==============================] - 3s 13ms/step - loss: 0.0934 - val_loss: 0.0921\n",
            "Epoch 22/50\n",
            "235/235 [==============================] - 2s 9ms/step - loss: 0.0934 - val_loss: 0.0921\n",
            "Epoch 23/50\n",
            "235/235 [==============================] - 2s 8ms/step - loss: 0.0933 - val_loss: 0.0920\n",
            "Epoch 24/50\n",
            "235/235 [==============================] - 2s 8ms/step - loss: 0.0932 - val_loss: 0.0919\n",
            "Epoch 25/50\n",
            "235/235 [==============================] - 2s 8ms/step - loss: 0.0932 - val_loss: 0.0919\n",
            "Epoch 26/50\n",
            "235/235 [==============================] - 2s 8ms/step - loss: 0.0931 - val_loss: 0.0919\n",
            "Epoch 27/50\n",
            "235/235 [==============================] - 3s 11ms/step - loss: 0.0931 - val_loss: 0.0919\n",
            "Epoch 28/50\n",
            "235/235 [==============================] - 2s 10ms/step - loss: 0.0931 - val_loss: 0.0918\n",
            "Epoch 29/50\n",
            "235/235 [==============================] - 2s 8ms/step - loss: 0.0930 - val_loss: 0.0918\n",
            "Epoch 30/50\n",
            "235/235 [==============================] - 2s 8ms/step - loss: 0.0930 - val_loss: 0.0918\n",
            "Epoch 31/50\n",
            "235/235 [==============================] - 2s 8ms/step - loss: 0.0930 - val_loss: 0.0917\n",
            "Epoch 32/50\n",
            "235/235 [==============================] - 2s 8ms/step - loss: 0.0930 - val_loss: 0.0918\n",
            "Epoch 33/50\n",
            "235/235 [==============================] - 2s 9ms/step - loss: 0.0929 - val_loss: 0.0917\n",
            "Epoch 34/50\n",
            "235/235 [==============================] - 3s 13ms/step - loss: 0.0929 - val_loss: 0.0916\n",
            "Epoch 35/50\n",
            "235/235 [==============================] - 2s 8ms/step - loss: 0.0929 - val_loss: 0.0917\n",
            "Epoch 36/50\n",
            "235/235 [==============================] - 2s 8ms/step - loss: 0.0929 - val_loss: 0.0916\n",
            "Epoch 37/50\n",
            "235/235 [==============================] - 2s 8ms/step - loss: 0.0928 - val_loss: 0.0916\n",
            "Epoch 38/50\n",
            "235/235 [==============================] - 2s 8ms/step - loss: 0.0928 - val_loss: 0.0916\n",
            "Epoch 39/50\n",
            "235/235 [==============================] - 2s 8ms/step - loss: 0.0928 - val_loss: 0.0916\n",
            "Epoch 40/50\n",
            "235/235 [==============================] - 3s 12ms/step - loss: 0.0928 - val_loss: 0.0916\n",
            "Epoch 41/50\n",
            "235/235 [==============================] - 2s 10ms/step - loss: 0.0928 - val_loss: 0.0916\n",
            "Epoch 42/50\n",
            "235/235 [==============================] - 2s 8ms/step - loss: 0.0928 - val_loss: 0.0916\n",
            "Epoch 43/50\n",
            "235/235 [==============================] - 2s 8ms/step - loss: 0.0928 - val_loss: 0.0916\n",
            "Epoch 44/50\n",
            "235/235 [==============================] - 2s 8ms/step - loss: 0.0927 - val_loss: 0.0915\n",
            "Epoch 45/50\n",
            "235/235 [==============================] - 2s 8ms/step - loss: 0.0927 - val_loss: 0.0916\n",
            "Epoch 46/50\n",
            "235/235 [==============================] - 2s 9ms/step - loss: 0.0927 - val_loss: 0.0915\n",
            "Epoch 47/50\n",
            "235/235 [==============================] - 3s 12ms/step - loss: 0.0927 - val_loss: 0.0916\n",
            "Epoch 48/50\n",
            "235/235 [==============================] - 2s 8ms/step - loss: 0.0927 - val_loss: 0.0915\n",
            "Epoch 49/50\n",
            "235/235 [==============================] - 2s 9ms/step - loss: 0.0927 - val_loss: 0.0915\n",
            "Epoch 50/50\n",
            "235/235 [==============================] - 2s 8ms/step - loss: 0.0927 - val_loss: 0.0915\n"
          ]
        },
        {
          "output_type": "execute_result",
          "data": {
            "text/plain": [
              "<keras.src.callbacks.History at 0x7eae2f69f430>"
            ]
          },
          "metadata": {},
          "execution_count": 3
        }
      ]
    },
    {
      "cell_type": "markdown",
      "source": [
        "# Step-4: Encode and Decode Digits"
      ],
      "metadata": {
        "id": "JbdbcaZg8DuD"
      }
    },
    {
      "cell_type": "code",
      "source": [
        "# Encode and decode some digits\n",
        "encoded_imgs = autoencoder.predict(x_test)\n",
        "\n",
        "n = 10  # How many digits we will display\n",
        "plt.figure(figsize=(20, 4))\n",
        "for i in range(n):\n",
        "    # Display original\n",
        "    ax = plt.subplot(2, n, i + 1)\n",
        "    plt.imshow(x_test[i].reshape(28, 28))\n",
        "    plt.gray()\n",
        "    ax.get_xaxis().set_visible(False)\n",
        "    ax.get_yaxis().set_visible(False)\n",
        "\n",
        "    # Display reconstruction\n",
        "    ax = plt.subplot(2, n, i + n + 1)\n",
        "    plt.imshow(encoded_imgs[i].reshape(28, 28))\n",
        "    plt.gray()\n",
        "    ax.get_xaxis().set_visible(False)\n",
        "    ax.get_yaxis().set_visible(False)\n",
        "plt.show()\n"
      ],
      "metadata": {
        "colab": {
          "base_uri": "https://localhost:8080/",
          "height": 354
        },
        "id": "52MzYa8vLHha",
        "outputId": "d9afec7f-1f0a-4a64-9cbe-b34b3cdc7d90"
      },
      "execution_count": null,
      "outputs": [
        {
          "output_type": "stream",
          "name": "stdout",
          "text": [
            "313/313 [==============================] - 0s 1ms/step\n"
          ]
        },
        {
          "output_type": "display_data",
          "data": {
            "text/plain": [
              "<Figure size 2000x400 with 20 Axes>"
            ],
            "image/png": "[encoded data removed]"
          },
          "metadata": {}
        }
      ]
    },
    {
      "cell_type": "code",
      "source": [],
      "metadata": {
        "id": "ieR6MKvTQaOX"
      },
      "execution_count": null,
      "outputs": []
    }
  ]
}